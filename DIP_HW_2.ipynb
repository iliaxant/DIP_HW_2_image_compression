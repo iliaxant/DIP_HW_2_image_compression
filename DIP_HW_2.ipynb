{
  "nbformat": 4,
  "nbformat_minor": 0,
  "metadata": {
    "colab": {
      "provenance": [],
      "authorship_tag": "ABX9TyPgJYPrOo9bIPS04ijJIvKk",
      "include_colab_link": true
    },
    "kernelspec": {
      "name": "python3",
      "display_name": "Python 3"
    },
    "language_info": {
      "name": "python"
    }
  },
  "cells": [
    {
      "cell_type": "markdown",
      "metadata": {
        "id": "view-in-github",
        "colab_type": "text"
      },
      "source": [
        "<a href=\"https://colab.research.google.com/github/iliaxant/DIP_HW_2_DCT_compression/blob/main/DIP_HW_2.ipynb\" target=\"_parent\"><img src=\"https://colab.research.google.com/assets/colab-badge.svg\" alt=\"Open In Colab\"/></a>"
      ]
    },
    {
      "cell_type": "markdown",
      "source": [
        "# **Ψηφιακή Επεξεργασία Εικόνας**\n",
        "\n",
        "## 2η Εργαστηριακή Εργασία - Ακαδημαικό έτος 2025-2026\n",
        "\n",
        "## Ηλίας Ξανθόπουλος 58545\n",
        "\n",
        "## GitHub Repo:"
      ],
      "metadata": {
        "id": "B2dMgh4V_5qq"
      }
    },
    {
      "cell_type": "code",
      "execution_count": null,
      "metadata": {
        "id": "4OLKwvEf_aDJ"
      },
      "outputs": [],
      "source": []
    }
  ]
}